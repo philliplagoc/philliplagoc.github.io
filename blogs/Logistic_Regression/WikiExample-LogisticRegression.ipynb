{
 "cells": [
  {
   "cell_type": "code",
   "execution_count": 1,
   "metadata": {},
   "outputs": [],
   "source": [
    "import numpy as np\n",
    "from sklearn.linear_model import LogisticRegression\n",
    "import statsmodels.api as sm\n",
    "import matplotlib.pyplot as plt"
   ]
  },
  {
   "cell_type": "code",
   "execution_count": 2,
   "metadata": {},
   "outputs": [],
   "source": [
    "data = [\n",
    "    [0.5,0],\n",
    "    [0.75,0],\n",
    "    [1,0],\n",
    "    [1.25,0],\n",
    "    [1.5,0],\n",
    "    [1.75,0],\n",
    "    [1.75,1],\n",
    "    [2,0],\n",
    "    [2.25,1],\n",
    "    [2.5,0],\n",
    "    [2.75,1],\n",
    "    [3,0],\n",
    "    [3.25,1],\n",
    "    [3.5,0],\n",
    "    [4,1],\n",
    "    [4.25,1],\n",
    "    [4.5,1],\n",
    "    [4.75,1],\n",
    "    [5,1],\n",
    "    [5.5,1],\n",
    "]\n",
    "\n",
    "data = np.matrix(data) # Shape: (20, 2)"
   ]
  },
  {
   "cell_type": "markdown",
   "metadata": {},
   "source": [
    "Here, we see 20 rows and 2 columns. One of these columns is our target variable, which is if the student passed or not. \n",
    "\n",
    "So, $m = 20$ and $n = 1$ However, we also need to account for the bias column, so our parameters will look like this: $$\\beta_0 + \\beta_1 * X_1$$ where $X_1$ is the number of hours the student studied.\n",
    "\n",
    "With this in mind, we can start implementing our own Logistic Regression model. \n",
    "\n",
    "Let's start with declaring some necessary functions."
   ]
  },
  {
   "cell_type": "code",
   "execution_count": 3,
   "metadata": {},
   "outputs": [],
   "source": [
    "'''\n",
    "Uses the sigmoid function to return a value between 0 and 1 on the given \n",
    "parameter. \n",
    "'''\n",
    "def sigmoid(z):\n",
    "    return 1 / (1 + np.exp(-z))\n",
    "\n",
    "'''\n",
    "Calculates the hypothesis h(theta), which is the probability that the \n",
    "student has passed given theta.\n",
    "'''\n",
    "def hypothesis(theta, x):\n",
    "    return sigmoid(np.dot(x, theta.transpose()))\n",
    "\n",
    "'''\n",
    "Calculates the cost function J(theta). \n",
    "This is what we will be trying to minimize with different values of theta.\n",
    "'''\n",
    "def cost_function(hypothesis, x, y, m):\n",
    "    A = np.dot(np.log(hypothesis).transpose(), y)\n",
    "    B = np.dot(np.log(hypothesis).transpose(), 1 - y)\n",
    "    cost = (1 / m) * (np.sum(A + B))\n",
    "    return cost\n",
    "\n",
    "'''\n",
    "Calculates the gradient of the cost function\n",
    "'''\n",
    "def gradient(hypothesis, x, y, m):\n",
    "    error = np.dot((hypothesis - y).transpose(), x)\n",
    "    return (1 / m) * np.sum(error)\n"
   ]
  },
  {
   "cell_type": "code",
   "execution_count": 4,
   "metadata": {},
   "outputs": [],
   "source": [
    "n_iters = 50000\n",
    "alpha = 0.0001 # Learning rate\n",
    "m, n = data.shape\n",
    "X = data[:, 0] # Shape: (20,1)\n",
    "Y = data[:, 1] # Shape: (20,1)\n",
    "theta = np.ones((2,1)) # Shape: (2,1)\n",
    "costs = []\n",
    "\n",
    "# Below is the loop that performs gradient descent\n",
    "for i in range(n_iters):\n",
    "    hyp = hypothesis(theta, X) # Shape: (20, 2)\n",
    "    cost = cost_function(hyp, X, Y, m) # Shape: (2,1)\n",
    "    costs.append(cost)\n",
    "    grad = gradient(hyp, X, Y, m)\n",
    "    \n",
    "    theta = theta - alpha * grad\n",
    "    "
   ]
  },
  {
   "cell_type": "code",
   "execution_count": 5,
   "metadata": {},
   "outputs": [
    {
     "data": {
      "image/png": "[encoded data removed]",
      "text/plain": [
       "<Figure size 432x288 with 1 Axes>"
      ]
     },
     "metadata": {},
     "output_type": "display_data"
    },
    {
     "name": "stdout",
     "output_type": "stream",
     "text": [
      "[0.21794949]\n"
     ]
    }
   ],
   "source": [
    "plt.plot(np.arange(1, n_iters+1), np.asarray(costs))\n",
    "plt.title('Training Curve')\n",
    "plt.xlabel('No. of Iterations')\n",
    "plt.ylabel('Cost')\n",
    "plt.show()\n",
    "print(theta[1])"
   ]
  },
  {
   "cell_type": "code",
   "execution_count": 6,
   "metadata": {},
   "outputs": [
    {
     "name": "stdout",
     "output_type": "stream",
     "text": [
      "[[0.21274231]]\n"
     ]
    }
   ],
   "source": [
    "# Let's check with a valid implementation \n",
    "clf = LogisticRegression(fit_intercept=False, \n",
    "                         random_state=None, C=1).fit(X,np.ravel(Y))\n",
    "print(clf.coef_)"
   ]
  },
  {
   "cell_type": "markdown",
   "metadata": {},
   "source": [
    "## Conclusion\n",
    "\n",
    "As you can see, we get pretty similar values for the coefficients. The minor differences may be due to the better optimization algorithm from sklearn, but nonetheless, the values are similar enough.\n"
   ]
  },
  {
   "cell_type": "markdown",
   "metadata": {},
   "source": [
    "# Let's try Prof. Tu's interpretation now\n",
    "The above implementation revolves around how Andrew Ng taught it. Now, let's try another way of going about this.\n",
    "\n",
    "TODO: Try this after HW4 gets graded"
   ]
  },
  {
   "cell_type": "code",
   "execution_count": null,
   "metadata": {},
   "outputs": [],
   "source": [
    "'''\n",
    "Calculates the cost function using Prof. Tu's interpretation.\n",
    "'''\n",
    "    "
   ]
  }
 ],
 "metadata": {
  "kernelspec": {
   "display_name": "Python 3",
   "language": "python",
   "name": "python3"
  },
  "language_info": {
   "codemirror_mode": {
    "name": "ipython",
    "version": 3
   },
   "file_extension": ".py",
   "mimetype": "text/x-python",
   "name": "python",
   "nbconvert_exporter": "python",
   "pygments_lexer": "ipython3",
   "version": "3.6.5"
  }
 },
 "nbformat": 4,
 "nbformat_minor": 2
}
