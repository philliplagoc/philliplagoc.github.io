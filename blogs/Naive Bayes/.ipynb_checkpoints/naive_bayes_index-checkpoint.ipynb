{
 "cells": [
  {
   "cell_type": "markdown",
   "metadata": {},
   "source": [
    "*Disclaimer: This is my first tutorial ever, so please leave any comments down below on how I can improve the content of this piece, or let me know if it helped you!*\n",
    "\n",
    "\n",
    "# A Short Introduction to the Naive Bayes Classifier\n",
    "\n",
    "\n",
    "\n",
    "Let's say that we are looking at different teams, Team A and Team B, and the conditions in which they win or lose. Let’s say there are two conditions under which Team A and Team B play: the weather is clear or snowy. \n",
    "\n",
    "\n",
    "What we want to do is predict whether Team A or Team B wins in their next game. A simple way to do this would be to use a Naive Bayes Classifier, which uses the famous [Bayes Theorem](https://en.wikipedia.org/wiki/Bayes%27_theorem) to calculate the probability that a team wins given certain conditions.\n",
    "\n",
    "\n",
    "Here’s what __Bayes Theorem__ looks like: \n",
    "\n",
    "$$P(y|x) = \\frac{P(x|y)P(y)}{\\sum_{k=1}^n(P(x_{k}|y)P(y)}$$\n",
    "\n",
    "Here’s what each value means:\n",
    "- $P(y|x)$: This is the probability that we wish to calculate. This means “the probability of y happening given x has happened. In our case, this would mean the “the probability that Team y wins given a condition x. Another name for this is the __posterior probability__.\n",
    "\n",
    "\n",
    "- $P(x|y)$: This means “the probability of x happening given y happened”, or “the probability that it condition x happens given Team y won”. This is referred to as the __likelihood__.\n",
    "\n",
    "\n",
    "- $P(y)$: This just refers to the probability that Team y won. When multiplied with the likelihood, the numerator becomes the __prior probability__.\n",
    "\n",
    "\n",
    "- $\\sum_{k=1}^n(P(x_{k}|y)P(y)$: This means to add all of the prior probabilities for each conditions. When calculated, it becomes $P(x)$, or “the probability that condition x occurs”. \n",
    "\n",
    "\n",
    "Now that we have a grasp on how to use Bayes Theorem, let’s use the Naive Bayes Classifier from scikit-learn to check if our math is right and make more predictions. \n",
    "\n",
    "Make sure you have Jupyter Notebook and scikit-learn installed. Here are instructions for [how to install Jupyter Notebook](https://jupyter.readthedocs.io/en/latest/install.html) and on [how to install scikit-learn](http://scikit-learn.org/stable/install.html). \n",
    "\n",
    "Download [this dataset](./naive_bayes.csv) first."
   ]
  },
  {
   "cell_type": "markdown",
   "metadata": {},
   "source": [
    "## Coding a Naive Bayes Classifier\n",
    "\n",
    "Now we can start coding our own Naive Bayes Classifier.\n",
    "\n",
    "First, handle the imports."
   ]
  },
  {
   "cell_type": "code",
   "execution_count": 1,
   "metadata": {},
   "outputs": [],
   "source": [
    "import pandas as pd\n",
    "import numpy as np\n",
    "from sklearn.naive_bayes import GaussianNB"
   ]
  },
  {
   "cell_type": "markdown",
   "metadata": {},
   "source": [
    "Let's read in the data.\n",
    "\n",
    "The Weather column refers to the conditions, or **features**, of our dataset. We want to predict who will win a game given these conditions.\n",
    "\n",
    "The Winner column refers to who won the game. I will refer to these as **labels**.\n",
    "This is what we want to predict."
   ]
  },
  {
   "cell_type": "code",
   "execution_count": 2,
   "metadata": {},
   "outputs": [
    {
     "data": {
      "text/html": [
       "<div>\n",
       "<style scoped>\n",
       "    .dataframe tbody tr th:only-of-type {\n",
       "        vertical-align: middle;\n",
       "    }\n",
       "\n",
       "    .dataframe tbody tr th {\n",
       "        vertical-align: top;\n",
       "    }\n",
       "\n",
       "    .dataframe thead th {\n",
       "        text-align: right;\n",
       "    }\n",
       "</style>\n",
       "<table border=\"1\" class=\"dataframe\">\n",
       "  <thead>\n",
       "    <tr style=\"text-align: right;\">\n",
       "      <th></th>\n",
       "      <th>Weather</th>\n",
       "      <th>Winner</th>\n",
       "    </tr>\n",
       "  </thead>\n",
       "  <tbody>\n",
       "    <tr>\n",
       "      <th>0</th>\n",
       "      <td>Clear</td>\n",
       "      <td>A</td>\n",
       "    </tr>\n",
       "    <tr>\n",
       "      <th>1</th>\n",
       "      <td>Clear</td>\n",
       "      <td>A</td>\n",
       "    </tr>\n",
       "    <tr>\n",
       "      <th>2</th>\n",
       "      <td>Snowy</td>\n",
       "      <td>B</td>\n",
       "    </tr>\n",
       "    <tr>\n",
       "      <th>3</th>\n",
       "      <td>Clear</td>\n",
       "      <td>A</td>\n",
       "    </tr>\n",
       "    <tr>\n",
       "      <th>4</th>\n",
       "      <td>Snowy</td>\n",
       "      <td>B</td>\n",
       "    </tr>\n",
       "  </tbody>\n",
       "</table>\n",
       "</div>"
      ],
      "text/plain": [
       "  Weather Winner\n",
       "0   Clear      A\n",
       "1   Clear      A\n",
       "2   Snowy      B\n",
       "3   Clear      A\n",
       "4   Snowy      B"
      ]
     },
     "execution_count": 2,
     "metadata": {},
     "output_type": "execute_result"
    }
   ],
   "source": [
    "data = pd.read_csv('./naive_bayes.csv')\n",
    "data.head()"
   ]
  },
  {
   "cell_type": "markdown",
   "metadata": {},
   "source": [
    "Looking at the data, it is clear we are dealing with categorical variables. The Naive Bayes Classifier does not really understand categorical variables. So, in order to use it, we have to encode these columns as quantitative variables.\n",
    "\n",
    "Luckily, pandas provides a way to do this via dummy variables.\n",
    "\n",
    "For the Winner column, it'd be easier if we just encode A winning as 0, and B winning as 1. This would ensure that our encoding remain as a single column, which makes it easier to feed into the Naive Bayes Classifier."
   ]
  },
  {
   "cell_type": "code",
   "execution_count": 6,
   "metadata": {},
   "outputs": [],
   "source": [
    "encoded_weather = pd.get_dummies(data[['Weather']])\n",
    "\n",
    "encoded_winners = pd.DataFrame(np.where(data[['Winner']] == 'A', 0, 1))\n",
    "encoded_winners.columns = ['Winner']"
   ]
  },
  {
   "cell_type": "markdown",
   "metadata": {},
   "source": [
    "Now that we've encoded both the columns, we can append them together and create a classifier for it."
   ]
  },
  {
   "cell_type": "code",
   "execution_count": 7,
   "metadata": {},
   "outputs": [
    {
     "data": {
      "text/plain": [
       "GaussianNB(priors=None)"
      ]
     },
     "execution_count": 7,
     "metadata": {},
     "output_type": "execute_result"
    }
   ],
   "source": [
    "X = pd.concat([encoded_weather], axis=1)\n",
    "y = data.Winner\n",
    "\n",
    "# Create and fit the different Naive Baye models\n",
    "clf = GaussianNB()\n",
    "clf.fit(X, y)"
   ]
  },
  {
   "cell_type": "markdown",
   "metadata": {},
   "source": [
    "And that's it! \n",
    "\n",
    "Now, we can make predictions. For instance, let's say that that the weather is snowy. What is the probability that Team A won?"
   ]
  },
  {
   "cell_type": "code",
   "execution_count": 8,
   "metadata": {},
   "outputs": [
    {
     "name": "stdout",
     "output_type": "stream",
     "text": [
      "Probability for GaussianNB: 0.08\n"
     ]
    }
   ],
   "source": [
    "sample_X = pd.DataFrame([[0, 1]])\n",
    "\n",
    "print('Probability for GaussianNB: {:.2f}'.format(clf.predict_proba(sample_X)[0][0]))"
   ]
  },
  {
   "cell_type": "markdown",
   "metadata": {},
   "source": [
    "As you can see, the probability that Team A wins given that it is snowy is very small."
   ]
  }
 ],
 "metadata": {
  "kernelspec": {
   "display_name": "Python 3",
   "language": "python",
   "name": "python3"
  },
  "language_info": {
   "codemirror_mode": {
    "name": "ipython",
    "version": 3
   },
   "file_extension": ".py",
   "mimetype": "text/x-python",
   "name": "python",
   "nbconvert_exporter": "python",
   "pygments_lexer": "ipython3",
   "version": "3.6.5"
  }
 },
 "nbformat": 4,
 "nbformat_minor": 2
}
